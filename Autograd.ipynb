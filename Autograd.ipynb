{
 "cells": [
  {
   "cell_type": "code",
   "execution_count": 24,
   "metadata": {},
   "outputs": [],
   "source": [
    "%matplotlib inline\n",
    "import os\n",
    "import autograd.numpy as np\n",
    "import pandas as pd\n",
    "import matplotlib.pyplot as plt"
   ]
  },
  {
   "cell_type": "code",
   "execution_count": 25,
   "metadata": {},
   "outputs": [
    {
     "data": {
      "image/png": "[encoded data removed]",
      "text/plain": [
       "<matplotlib.figure.Figure at 0x109622ac8>"
      ]
     },
     "metadata": {},
     "output_type": "display_data"
    }
   ],
   "source": [
    "def generate_linear_data(b0, b1, xmin=0, xmax=100, n=300, noise_factor=10):\n",
    "    \"\"\"Given a slope, intercept, and noise factor, generate linear data.\"\"\"\n",
    "    x = np.random.uniform(xmin, xmax, size=n)\n",
    "    y = b0 + b1 * x + noise_factor * np.random.normal(size=n)\n",
    "    return pd.DataFrame({'x': x, 'y': y})\n",
    "\n",
    "df = generate_linear_data(1, 2)\n",
    "plt.scatter(x=df['x'], y=df['y'], s=5)\n",
    "plt.show()"
   ]
  },
  {
   "cell_type": "code",
   "execution_count": 85,
   "metadata": {},
   "outputs": [
    {
     "data": {
      "image/png": "[encoded data removed]",
      "text/plain": [
       "<matplotlib.figure.Figure at 0x10a545908>"
      ]
     },
     "metadata": {},
     "output_type": "display_data"
    }
   ],
   "source": [
    "\"\"\"Autograd tests\"\"\"\n",
    "\n",
    "def autoplot(func):\n",
    "    \"\"\"A decorator that plots the data from a function.\n",
    "    \n",
    "    Consumes the 'x' parameter\n",
    "    \"\"\"\n",
    "    def decorated(*args, **kwargs):\n",
    "        if not 'x' in kwargs:\n",
    "            raise ValueError('\"x\" must be provided as a kwarg.')\n",
    "        func_gradient = autograd.grad(func)\n",
    "        y = func(*args, **kwargs)\n",
    "#         y_gradient = func_gradient(*args, **kwargs)\n",
    "        \n",
    "        plt.scatter(x=x, y=y, s=5)\n",
    "        plt.title(func.__name__)\n",
    "        plt.show()\n",
    "        if 'ret' in kwargs and kwargs['ret']:\n",
    "            return y\n",
    "    \n",
    "    return decorated\n",
    "\n",
    "\n",
    "def plot_gradient(f, xmin=-10, xmax=10, n=100):\n",
    "    f_gradient = autograd.grad(f)\n",
    "    x = np.random.randint(xmin, xmax, n)\n",
    "    y = f(x)\n",
    "    dydx = np.array([f_gradient(float(x_)) for x_ in x])\n",
    "    \n",
    "    s = 5\n",
    "    plt.scatter(x=x, y=y, s=s)\n",
    "    plt.scatter(x=x, y=dydx, s=s)\n",
    "    plt.title('{f}()'.format(f=f.__name__))\n",
    "    plt.show()\n",
    "    \n",
    "    \n",
    "def parabola(x):\n",
    "    return x ** 2\n",
    "\n",
    "\n",
    "plot_gradient(parabola, xmin=-10, xmax=10, n=100)"
   ]
  },
  {
   "cell_type": "code",
   "execution_count": 26,
   "metadata": {},
   "outputs": [
    {
     "ename": "SyntaxError",
     "evalue": "invalid syntax (<ipython-input-26-82b59c8a5251>, line 4)",
     "output_type": "error",
     "traceback": [
      "\u001b[0;36m  File \u001b[0;32m\"<ipython-input-26-82b59c8a5251>\"\u001b[0;36m, line \u001b[0;32m4\u001b[0m\n\u001b[0;31m    class Model\u001b[0m\n\u001b[0m               ^\u001b[0m\n\u001b[0;31mSyntaxError\u001b[0m\u001b[0;31m:\u001b[0m invalid syntax\n"
     ]
    }
   ],
   "source": [
    "\"\"\"Linear regression implementation.\"\"\"\n",
    "\n",
    "\n",
    "class LinearRegression:\n",
    "    \"\"\"A linear regression object.\"\"\"\n",
    "    def __init__(self):\n",
    "        self.coef = None\n",
    "    \n",
    "    def fit(self, df):\n",
    "        # Assumes the fit is: y ~ x\n",
    "        pass\n",
    "    \n",
    "    def predict(self, df):\n",
    "        if not 'x' in df.columns:\n",
    "            raise ValueError('The predictor \"x\" must be in the provided test data.')"
   ]
  }
 ],
 "metadata": {
  "kernelspec": {
   "display_name": "Python 3",
   "language": "python",
   "name": "python3"
  },
  "language_info": {
   "codemirror_mode": {
    "name": "ipython",
    "version": 3
   },
   "file_extension": ".py",
   "mimetype": "text/x-python",
   "name": "python",
   "nbconvert_exporter": "python",
   "pygments_lexer": "ipython3",
   "version": "3.6.5"
  }
 },
 "nbformat": 4,
 "nbformat_minor": 2
}
